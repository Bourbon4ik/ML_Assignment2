{
  "nbformat": 4,
  "nbformat_minor": 0,
  "metadata": {
    "colab": {
      "provenance": [],
      "include_colab_link": true
    },
    "kernelspec": {
      "name": "python3",
      "display_name": "Python 3"
    },
    "language_info": {
      "name": "python"
    }
  },
  "cells": [
    {
      "cell_type": "markdown",
      "metadata": {
        "id": "view-in-github",
        "colab_type": "text"
      },
      "source": [
        "<a href=\"https://colab.research.google.com/github/Bourbon4ik/ML_Assignment2/blob/main/ml_assignment2.ipynb\" target=\"_parent\"><img src=\"https://colab.research.google.com/assets/colab-badge.svg\" alt=\"Open In Colab\"/></a>"
      ]
    },
    {
      "cell_type": "code",
      "execution_count": null,
      "metadata": {
        "id": "p6-AjnRrufak"
      },
      "outputs": [],
      "source": [
        "import numpy as np\n",
        "import pandas as pd\n",
        "from sklearn.preprocessing import MinMaxScaler, StandardScaler\n",
        "from sklearn.linear_model import Ridge, Lasso\n",
        "from sklearn.tree import DecisionTreeRegressor\n",
        "from sklearn.model_selection import GridSearchCV\n",
        "from sklearn.metrics import mean_squared_error, r2_score\n",
        "import matplotlib.pyplot as plt\n",
        "from sklearn.model_selection import cross_val_score\n",
        "\n",
        "#Alan Zoltan 6359\n",
        "#Zoe Petropouliadis 4457\n",
        "#Elizabeth Nikolaev 1740\n",
        "#Leon Yurkovski 2357\n",
        "#Nitzan Levy 1596"
      ]
    },
    {
      "cell_type": "code",
      "source": [
        "def best_data_trainer_gridsearch(train_data, test_data, target_column, scaler_num, model_num, exclude_columns = None):\n",
        "\n",
        "    # Split features and target\n",
        "    X_train = train_data.drop(columns=[target_column])\n",
        "    y_train = train_data[target_column]\n",
        "    X_test = test_data.drop(columns=[target_column])\n",
        "    y_test = test_data[target_column]\n",
        "    if exclude_columns != None:\n",
        "        columns_to_scale = [col for col in X_train.columns if col not in exclude_columns]\n",
        "    else:\n",
        "        columns_to_scale = [col for col in X_train.columns]\n",
        "    X_train_scaled = X_train.copy()\n",
        "    X_test_scaled = X_test.copy()\n",
        "\n",
        "    # Feature scaling\n",
        "    if scaler_num == 'standard':\n",
        "        scaler = StandardScaler()\n",
        "        print('Standard Scaler')\n",
        "        X_train_scaled[columns_to_scale] = scaler.fit_transform(X_train[columns_to_scale])\n",
        "        X_test_scaled[columns_to_scale] = scaler.transform(X_test[columns_to_scale])\n",
        "\n",
        "    elif scaler_num == 'minmax':\n",
        "        scaler = MinMaxScaler()\n",
        "        print('MinMax Scaler')\n",
        "        X_train_scaled[columns_to_scale] = scaler.fit_transform(X_train[columns_to_scale])\n",
        "        X_test_scaled[columns_to_scale] = scaler.transform(X_test[columns_to_scale])\n",
        "\n",
        "    elif scaler_num == 'none':\n",
        "        print('No Scaler')\n",
        "\n",
        "    # Applying model\n",
        "    if model_num == 'tree':\n",
        "        model = DecisionTreeRegressor(random_state = 42)\n",
        "        param_grid = {\n",
        "            'max_depth': [15, 16, 17, 18],\n",
        "            'min_samples_split': [2, 3],\n",
        "            'min_samples_leaf': [15, 16, 17] }\n",
        "        print('Decision Tree Regressor')\n",
        "\n",
        "    elif model_num == 'ridge':\n",
        "        model = Ridge()\n",
        "        param_grid = {\n",
        "            'alpha': [0.09, 0.1, 0.15, 3.5, 3.75, 4, 4.1],\n",
        "            'solver': ['auto', 'svd', 'cholesky', 'lsqr', 'sag']}\n",
        "        print('Ridge Regressor')\n",
        "\n",
        "    elif model_num == 'lasso':\n",
        "        model = Lasso()\n",
        "        param_grid = {\n",
        "            'alpha': [0.0001, 0.0009, 0.001, 0.002, 0.003],\n",
        "            'max_iter': [100, 1000, 10000]}\n",
        "        print('Lasso Regressor')\n",
        "\n",
        "    # Initialize and perform GridSearchCV\n",
        "    grid_search = GridSearchCV(estimator=model, param_grid=param_grid, cv=5, n_jobs=-1, scoring='r2')\n",
        "    grid_search.fit(X_train_scaled, y_train)\n",
        "\n",
        "    # Check the best hyperparameters\n",
        "    print(f\"Best Parameters: {grid_search.best_params_}\")\n",
        "\n",
        "    # Make predictions with the best model\n",
        "    best_model = grid_search.best_estimator_\n",
        "    y_train_pred = best_model.predict(X_train_scaled)\n",
        "    y_test_pred = best_model.predict(X_test_scaled)\n",
        "\n",
        "    # Evaluate the model\n",
        "    train_mse = mean_squared_error(y_train, y_train_pred)\n",
        "    test_mse = mean_squared_error(y_test, y_test_pred)\n",
        "    train_r2 = r2_score(y_train, y_train_pred)\n",
        "    test_r2 = r2_score(y_test, y_test_pred)\n",
        "\n",
        "    print(f\"Train MSE: {train_mse}\")\n",
        "    print(f\"Test MSE: {test_mse}\")\n",
        "    print(f\"Train R-squared: {train_r2}\")\n",
        "    print(f\"Test R-squared: {test_r2}\")\n",
        "    print(f\"--------------------------------------------------------------------------\")\n",
        "\n",
        "    results = {\n",
        "        'model': model.__class__.__name__,\n",
        "        'scaler': scaler.__class__.__name__ if scaler_num != 'none' else 'No Scaler',\n",
        "        'train_mse': train_mse,\n",
        "        'test_mse': test_mse,\n",
        "        'train_r2': train_r2,\n",
        "        'test_r2': test_r2,\n",
        "        'best_params': grid_search.best_params_\n",
        "    }\n",
        "\n",
        "    return results"
      ],
      "metadata": {
        "id": "o2X2a2SyXkQN"
      },
      "execution_count": null,
      "outputs": []
    },
    {
      "cell_type": "code",
      "source": [
        "#Loading the Dataset\n",
        "train_data = pd.read_csv('housing_train.csv')\n",
        "test_data = pd.read_csv('housing_test.csv')\n",
        "train_df = train_data.copy()\n",
        "test_df = test_data.copy()"
      ],
      "metadata": {
        "id": "41LI5wtXvGPn"
      },
      "execution_count": null,
      "outputs": []
    },
    {
      "cell_type": "code",
      "source": [
        "# First 5 Rows of the Data\n",
        "print(\"First 5 Rows of the Data\")\n",
        "print(train_df.head().to_markdown(index=False, numalign=\"left\", stralign=\"left\"))\n",
        "descriptive_stats_table = train_df.describe()"
      ],
      "metadata": {
        "colab": {
          "base_uri": "https://localhost:8080/"
        },
        "id": "SUBu-0vAwlOH",
        "outputId": "57787210-33bf-4688-a9f4-6f7fb1731f44"
      },
      "execution_count": null,
      "outputs": [
        {
          "output_type": "stream",
          "name": "stdout",
          "text": [
            "First 5 Rows of the Data\n",
            "| MedInc   | HouseAge   | AveRooms   | AveBedrms   | Population   | AveOccup   | Latitude   | Longitude   | MedHouseVal   |\n",
            "|:---------|:-----------|:-----------|:------------|:-------------|:-----------|:-----------|:------------|:--------------|\n",
            "| 4.0179   | 46         | 4.15869    | 1.03275     | 512          | 1.28967    | 34.07      | -118.35     | 3.5           |\n",
            "| 2.7002   | 6          | 4.14925    | 1.17999     | 4092         | 2.28731    | 34.05      | -117.31     | 0.883         |\n",
            "| 1.2762   | 17         | 3.43233    | 1.02256     | 1325         | 2.4906     | 34.42      | -119.69     | 2.536         |\n",
            "| 4.9342   | 23         | 5.7358     | 1.0532      | 4580         | 4.12985    | 34.04      | -117.93     | 1.81          |\n",
            "| 2.2755   | 21         | 4.06461    | 0.962079    | 2109         | 2.96208    | 32.58      | -117.11     | 1.25          |\n"
          ]
        }
      ]
    },
    {
      "cell_type": "code",
      "source": [
        "# Building statistics of the data\n",
        "print(\"Descriptive Statistics of Numerical Variables:\")\n",
        "print(descriptive_stats_table.to_markdown(numalign=\"left\", stralign=\"left\"))\n",
        "train_df['AveBedrms_binned'] = pd.cut(train_df['AveBedrms'], bins=[0, 1, 2, 3, 4, float('inf')], labels=['0-1', '1-2', '2-3', '3-4', '4+'])"
      ],
      "metadata": {
        "colab": {
          "base_uri": "https://localhost:8080/"
        },
        "id": "Qq2d5j06xWuI",
        "outputId": "9818ca6c-6a89-452b-f5d4-f53f664e4789"
      },
      "execution_count": null,
      "outputs": [
        {
          "output_type": "stream",
          "name": "stdout",
          "text": [
            "Descriptive Statistics of Numerical Variables:\n",
            "|       | MedInc   | HouseAge   | AveRooms   | AveBedrms   | Population   | AveOccup   | Latitude   | Longitude   | MedHouseVal   |\n",
            "|:------|:---------|:-----------|:-----------|:------------|:-------------|:-----------|:-----------|:------------|:--------------|\n",
            "| count | 16512    | 16512      | 16512      | 16512       | 16512        | 16512      | 16512      | 16512       | 16512         |\n",
            "| mean  | 3.86352  | 28.6507    | 5.41248    | 1.09355     | 1424.29      | 3.1012     | 35.6315    | -119.566    | 2.06527       |\n",
            "| std   | 1.87858  | 12.624     | 2.08868    | 0.378594    | 1139.01      | 11.5878    | 2.13754    | 2.00655     | 1.15122       |\n",
            "| min   | 0.4999   | 1          | 0.846154   | 0.333333    | 3            | 0.692308   | 32.54      | -124.35     | 0.14999       |\n",
            "| 25%   | 2.56438  | 18         | 4.44866    | 1.00599     | 789          | 2.43107    | 33.93      | -121.8      | 1.192         |\n",
            "| 50%   | 3.53665  | 29         | 5.22551    | 1.04878     | 1167         | 2.81636    | 34.25      | -118.49     | 1.796         |\n",
            "| 75%   | 4.74437  | 37         | 6.04663    | 1.09969     | 1722         | 3.28161    | 37.71      | -118        | 2.647         |\n",
            "| max   | 15.0001  | 52         | 62.4222    | 15.3125     | 35682        | 1243.33    | 41.95      | -114.31     | 5.00001       |\n"
          ]
        }
      ]
    },
    {
      "cell_type": "code",
      "source": [
        "# Calculate mean MedHouseVal by AveBedrms_binned\n",
        "mean_house_value_by_bedrooms = train_df.groupby('AveBedrms_binned')['MedHouseVal'].mean()\n",
        "\n",
        "print(\"\\nAverage Median House Value by Number of Bedrooms:\")\n",
        "print(mean_house_value_by_bedrooms.to_markdown(numalign=\"left\", stralign=\"left\"))"
      ],
      "metadata": {
        "colab": {
          "base_uri": "https://localhost:8080/"
        },
        "id": "hVNvwmZKvfsm",
        "outputId": "5574cfd6-c551-4f63-d7a1-60a8c2a35ada"
      },
      "execution_count": null,
      "outputs": [
        {
          "output_type": "stream",
          "name": "stdout",
          "text": [
            "\n",
            "Average Median House Value by Number of Bedrooms:\n",
            "| AveBedrms_binned   | MedHouseVal   |\n",
            "|:-------------------|:--------------|\n",
            "| 0-1                | 2.13705       |\n",
            "| 1-2                | 2.05315       |\n",
            "| 2-3                | 1.37499       |\n",
            "| 3-4                | 1.57146       |\n",
            "| 4+                 | 1.5061        |\n"
          ]
        }
      ]
    },
    {
      "cell_type": "code",
      "source": [
        "# Visualization\n",
        "plt.figure(figsize=(10, 6))\n",
        "plt.hist(train_df['MedHouseVal'], bins=20, density=True, alpha=0.7, color='hotpink', edgecolor='black')\n",
        "plt.title('Distribution of Median House Value')\n",
        "plt.xlabel('Median House Value')\n",
        "plt.ylabel('Density')\n",
        "plt.grid(axis='y', alpha=0.5)\n",
        "plt.show()\n",
        "\n",
        "plt.figure(figsize=(10, 6))\n",
        "plt.scatter(train_df['AveRooms'], train_df['AveBedrms'], alpha=0.7, color='hotpink', edgecolor='black')\n",
        "plt.title('Relationship between Average Number of Rooms and Average Number of Bedrooms')\n",
        "plt.xlabel('Average Number of Rooms')\n",
        "plt.ylabel('Average Number of Bedrooms')\n",
        "plt.grid(alpha=0.3)\n",
        "plt.show()"
      ],
      "metadata": {
        "colab": {
          "base_uri": "https://localhost:8080/",
          "height": 1000
        },
        "id": "ArB45FLWuP5T",
        "outputId": "1ca81e58-bb91-4ac0-8fa8-d40196a2dc01"
      },
      "execution_count": null,
      "outputs": [
        {
          "output_type": "display_data",
          "data": {
            "text/plain": [
              "<Figure size 1000x600 with 1 Axes>"
            ],
            "image/png": "[encoded data removed]"
          },
          "metadata": {}
        },
        {
          "output_type": "display_data",
          "data": {
            "text/plain": [
              "<Figure size 1000x600 with 1 Axes>"
            ],
            "image/png": "[encoded data removed]"
          },
          "metadata": {}
        }
      ]
    },
    {
      "cell_type": "code",
      "source": [
        "print(train_df[['AveBedrms','AveRooms']].corr())\n",
        "train_df = train_df.drop(['AveBedrms_binned'], axis = 1)"
      ],
      "metadata": {
        "id": "uqWcXbmaPLVl",
        "colab": {
          "base_uri": "https://localhost:8080/"
        },
        "outputId": "a2bea7c7-5e90-4564-bb82-dc0e56ce4ece"
      },
      "execution_count": null,
      "outputs": [
        {
          "output_type": "stream",
          "name": "stdout",
          "text": [
            "           AveBedrms  AveRooms\n",
            "AveBedrms   1.000000  0.790688\n",
            "AveRooms    0.790688  1.000000\n"
          ]
        }
      ]
    },
    {
      "cell_type": "code",
      "source": [
        "# Test with dropping the Latitude and Longitude\n",
        "train_df_copy = train_df.copy()\n",
        "test_df_copy = test_df.copy()\n",
        "train_df_copy = train_df_copy.drop(['AveBedrms', 'Latitude', 'Longitude'], axis=1)\n",
        "test_df_copy = test_df_copy.drop(['AveBedrms', 'Latitude', 'Longitude'], axis=1)\n",
        "scalers, models = ['standard', 'minmax', 'none'], ['tree', 'ridge', 'lasso']\n",
        "results_list_no_coords = []\n",
        "\n",
        "# Checking every single combination to find the best\n",
        "for model_num in models:\n",
        "    for scaler_num in scalers:\n",
        "        results_list_no_coords.append(best_data_trainer_gridsearch(train_df_copy, test_df_copy,'MedHouseVal', scaler_num, model_num))\n",
        "\n"
      ],
      "metadata": {
        "colab": {
          "base_uri": "https://localhost:8080/"
        },
        "id": "I9UX22x9A7jI",
        "outputId": "dd1e7729-9117-4604-80e5-57b660316586"
      },
      "execution_count": null,
      "outputs": [
        {
          "output_type": "stream",
          "name": "stdout",
          "text": [
            "Standard Scaler\n",
            "Decision Tree Regressor\n",
            "Best Parameters: {'max_depth': 15, 'min_samples_leaf': 17, 'min_samples_split': 2}\n",
            "Train MSE: 0.33741824287213706\n",
            "Test MSE: 0.46938443612237024\n",
            "Train R-squared: 0.7453880448653898\n",
            "Test R-squared: 0.6540078322584233\n",
            "--------------------------------------------------------------------------\n",
            "MinMax Scaler\n",
            "Decision Tree Regressor\n",
            "Best Parameters: {'max_depth': 15, 'min_samples_leaf': 17, 'min_samples_split': 2}\n",
            "Train MSE: 0.3375010247766861\n",
            "Test MSE: 0.46939517524084395\n",
            "Train R-squared: 0.7453255785850026\n",
            "Test R-squared: 0.6539999162505747\n",
            "--------------------------------------------------------------------------\n",
            "No Scaler\n",
            "Decision Tree Regressor\n",
            "Best Parameters: {'max_depth': 15, 'min_samples_leaf': 17, 'min_samples_split': 2}\n",
            "Train MSE: 0.33741824287213706\n",
            "Test MSE: 0.46938443612237024\n",
            "Train R-squared: 0.7453880448653898\n",
            "Test R-squared: 0.6540078322584233\n",
            "--------------------------------------------------------------------------\n",
            "Standard Scaler\n",
            "Ridge Regressor\n",
            "Best Parameters: {'alpha': 3.75, 'solver': 'sag'}\n",
            "Train MSE: 0.6425957843488621\n",
            "Test MSE: 0.6720940205335642\n",
            "Train R-squared: 0.5151045550423239\n",
            "Test R-squared: 0.5045867540654121\n",
            "--------------------------------------------------------------------------\n",
            "MinMax Scaler\n",
            "Ridge Regressor\n",
            "Best Parameters: {'alpha': 0.15, 'solver': 'lsqr'}\n",
            "Train MSE: 0.6426201939829542\n",
            "Test MSE: 0.6717534557748556\n",
            "Train R-squared: 0.5150861358110239\n",
            "Test R-squared: 0.5048377908064157\n",
            "--------------------------------------------------------------------------\n",
            "No Scaler\n",
            "Ridge Regressor\n",
            "Best Parameters: {'alpha': 4.1, 'solver': 'svd'}\n",
            "Train MSE: 0.6425957442748749\n",
            "Test MSE: 0.6721207250022737\n",
            "Train R-squared: 0.5151045852816973\n",
            "Test R-squared: 0.5045670696951898\n",
            "--------------------------------------------------------------------------\n",
            "Standard Scaler\n",
            "Lasso Regressor\n",
            "Best Parameters: {'alpha': 0.003, 'max_iter': 100}\n",
            "Train MSE: 0.6426582088325816\n",
            "Test MSE: 0.6701218542804339\n",
            "Train R-squared: 0.5150574502393565\n",
            "Test R-squared: 0.5060404752043239\n",
            "--------------------------------------------------------------------------\n",
            "MinMax Scaler\n",
            "Lasso Regressor\n",
            "Best Parameters: {'alpha': 0.0001, 'max_iter': 100}\n",
            "Train MSE: 0.6427402551497997\n",
            "Test MSE: 0.6707327514404033\n",
            "Train R-squared: 0.514995539024774\n",
            "Test R-squared: 0.505590171324649\n",
            "--------------------------------------------------------------------------\n",
            "No Scaler\n",
            "Lasso Regressor\n",
            "Best Parameters: {'alpha': 0.003, 'max_iter': 100}\n",
            "Train MSE: 0.6426033821735543\n",
            "Test MSE: 0.6709240412092914\n",
            "Train R-squared: 0.5150988218105248\n",
            "Test R-squared: 0.5054491680090062\n",
            "--------------------------------------------------------------------------\n"
          ]
        }
      ]
    },
    {
      "cell_type": "code",
      "source": [
        "# Test without dropping the Latitude and Longitude\n",
        "train_df_copy = train_df.copy()\n",
        "test_df_copy = test_df.copy()\n",
        "train_df_copy = train_df_copy.drop(['AveBedrms'], axis=1)\n",
        "test_df_copy = test_df_copy.drop(['AveBedrms'], axis=1)\n",
        "exclude_columns = ['Latitude', 'Longitude']\n",
        "scalers, models = ['standard', 'minmax', 'none'], ['tree', 'ridge', 'lasso']\n",
        "results_list_coords = []\n",
        "\n",
        "# Checking every single combination to find the best\n",
        "for model_num in models:\n",
        "    for scaler_num in scalers:\n",
        "        results_list_coords.append(best_data_trainer_gridsearch(train_df_copy, test_df_copy,'MedHouseVal', scaler_num, model_num, exclude_columns))"
      ],
      "metadata": {
        "id": "sCdiEWEBnKjR",
        "colab": {
          "base_uri": "https://localhost:8080/"
        },
        "outputId": "d4fd9bf4-7ed3-4fd4-86c1-ac304a76764e"
      },
      "execution_count": null,
      "outputs": [
        {
          "output_type": "stream",
          "name": "stdout",
          "text": [
            "Standard Scaler\n",
            "Decision Tree Regressor\n",
            "Best Parameters: {'max_depth': 16, 'min_samples_leaf': 16, 'min_samples_split': 2}\n",
            "Train MSE: 0.24138594035996447\n",
            "Test MSE: 0.3534623645991914\n",
            "Train R-squared: 0.8178529243294447\n",
            "Test R-squared: 0.7394561891462994\n",
            "--------------------------------------------------------------------------\n",
            "MinMax Scaler\n",
            "Decision Tree Regressor\n",
            "Best Parameters: {'max_depth': 17, 'min_samples_leaf': 16, 'min_samples_split': 2}\n",
            "Train MSE: 0.24183796518588274\n",
            "Test MSE: 0.35250813642837836\n",
            "Train R-squared: 0.8175118315547424\n",
            "Test R-squared: 0.7401595688238769\n",
            "--------------------------------------------------------------------------\n",
            "No Scaler\n",
            "Decision Tree Regressor\n",
            "Best Parameters: {'max_depth': 16, 'min_samples_leaf': 16, 'min_samples_split': 2}\n",
            "Train MSE: 0.24138594035996447\n",
            "Test MSE: 0.3534623645991914\n",
            "Train R-squared: 0.8178529243294447\n",
            "Test R-squared: 0.7394561891462994\n",
            "--------------------------------------------------------------------------\n",
            "Standard Scaler\n",
            "Ridge Regressor\n",
            "Best Parameters: {'alpha': 3.5, 'solver': 'sag'}\n",
            "Train MSE: 0.5383529254250815\n",
            "Test MSE: 0.5355025109678325\n",
            "Train R-squared: 0.5937650266679285\n",
            "Test R-squared: 0.6052709456422736\n",
            "--------------------------------------------------------------------------\n",
            "MinMax Scaler\n",
            "Ridge Regressor\n",
            "Best Parameters: {'alpha': 0.15, 'solver': 'svd'}\n",
            "Train MSE: 0.5383656528644449\n",
            "Test MSE: 0.5356153255097397\n",
            "Train R-squared: 0.5937554226874425\n",
            "Test R-squared: 0.6051877879043868\n",
            "--------------------------------------------------------------------------\n",
            "No Scaler\n",
            "Ridge Regressor\n",
            "Best Parameters: {'alpha': 4.1, 'solver': 'lsqr'}\n",
            "Train MSE: 0.5383529503831038\n",
            "Test MSE: 0.5355132146267597\n",
            "Train R-squared: 0.5937650078348897\n",
            "Test R-squared: 0.6052630557723291\n",
            "--------------------------------------------------------------------------\n",
            "Standard Scaler\n",
            "Lasso Regressor\n",
            "Best Parameters: {'alpha': 0.002, 'max_iter': 100}\n",
            "Train MSE: 0.5383959730333336\n",
            "Test MSE: 0.5358895095617858\n",
            "Train R-squared: 0.5937325434340417\n",
            "Test R-squared: 0.6049856816408913\n",
            "--------------------------------------------------------------------------\n",
            "MinMax Scaler\n",
            "Lasso Regressor\n"
          ]
        },
        {
          "output_type": "stream",
          "name": "stderr",
          "text": [
            "/usr/local/lib/python3.10/dist-packages/sklearn/linear_model/_coordinate_descent.py:631: ConvergenceWarning: Objective did not converge. You might want to increase the number of iterations, check the scale of the features or consider increasing regularisation. Duality gap: 2.596e+00, tolerance: 2.188e+00\n",
            "  model = cd_fast.enet_coordinate_descent(\n"
          ]
        },
        {
          "output_type": "stream",
          "name": "stdout",
          "text": [
            "Best Parameters: {'alpha': 0.0001, 'max_iter': 100}\n",
            "Train MSE: 0.538481768467999\n",
            "Test MSE: 0.5362197327656573\n",
            "Train R-squared: 0.5936678031782219\n",
            "Test R-squared: 0.6047422678560417\n",
            "--------------------------------------------------------------------------\n",
            "No Scaler\n",
            "Lasso Regressor\n",
            "Best Parameters: {'alpha': 0.0001, 'max_iter': 1000}\n",
            "Train MSE: 0.5383529360836876\n",
            "Test MSE: 0.5355177157638895\n",
            "Train R-squared: 0.593765018625066\n",
            "Test R-squared: 0.6052597378988058\n",
            "--------------------------------------------------------------------------\n"
          ]
        }
      ]
    },
    {
      "cell_type": "code",
      "source": [
        "#Summarize results into a DataFrame\n",
        "\n",
        "all_results = results_list_no_coords + results_list_coords\n",
        "results_df = pd.DataFrame(all_results)\n",
        "print(results_df.to_markdown(index=False, numalign=\"left\", stralign=\"left\"))"
      ],
      "metadata": {
        "id": "IVDdfwlRvJMC",
        "colab": {
          "base_uri": "https://localhost:8080/"
        },
        "outputId": "13dbafea-3545-488a-fd21-48a7721ae04e"
      },
      "execution_count": null,
      "outputs": [
        {
          "output_type": "stream",
          "name": "stdout",
          "text": [
            "| model                 | scaler         | train_mse   | test_mse   | train_r2   | test_r2   | best_params                                                       |\n",
            "|:----------------------|:---------------|:------------|:-----------|:-----------|:----------|:------------------------------------------------------------------|\n",
            "| DecisionTreeRegressor | StandardScaler | 0.337418    | 0.469384   | 0.745388   | 0.654008  | {'max_depth': 15, 'min_samples_leaf': 17, 'min_samples_split': 2} |\n",
            "| DecisionTreeRegressor | MinMaxScaler   | 0.337501    | 0.469395   | 0.745326   | 0.654     | {'max_depth': 15, 'min_samples_leaf': 17, 'min_samples_split': 2} |\n",
            "| DecisionTreeRegressor | No Scaler      | 0.337418    | 0.469384   | 0.745388   | 0.654008  | {'max_depth': 15, 'min_samples_leaf': 17, 'min_samples_split': 2} |\n",
            "| Ridge                 | StandardScaler | 0.642596    | 0.672094   | 0.515105   | 0.504587  | {'alpha': 3.75, 'solver': 'sag'}                                  |\n",
            "| Ridge                 | MinMaxScaler   | 0.64262     | 0.671753   | 0.515086   | 0.504838  | {'alpha': 0.15, 'solver': 'lsqr'}                                 |\n",
            "| Ridge                 | No Scaler      | 0.642596    | 0.672121   | 0.515105   | 0.504567  | {'alpha': 4.1, 'solver': 'svd'}                                   |\n",
            "| Lasso                 | StandardScaler | 0.642658    | 0.670122   | 0.515057   | 0.50604   | {'alpha': 0.003, 'max_iter': 100}                                 |\n",
            "| Lasso                 | MinMaxScaler   | 0.64274     | 0.670733   | 0.514996   | 0.50559   | {'alpha': 0.0001, 'max_iter': 100}                                |\n",
            "| Lasso                 | No Scaler      | 0.642603    | 0.670924   | 0.515099   | 0.505449  | {'alpha': 0.003, 'max_iter': 100}                                 |\n",
            "| DecisionTreeRegressor | StandardScaler | 0.241386    | 0.353462   | 0.817853   | 0.739456  | {'max_depth': 16, 'min_samples_leaf': 16, 'min_samples_split': 2} |\n",
            "| DecisionTreeRegressor | MinMaxScaler   | 0.241838    | 0.352508   | 0.817512   | 0.74016   | {'max_depth': 17, 'min_samples_leaf': 16, 'min_samples_split': 2} |\n",
            "| DecisionTreeRegressor | No Scaler      | 0.241386    | 0.353462   | 0.817853   | 0.739456  | {'max_depth': 16, 'min_samples_leaf': 16, 'min_samples_split': 2} |\n",
            "| Ridge                 | StandardScaler | 0.538353    | 0.535503   | 0.593765   | 0.605271  | {'alpha': 3.5, 'solver': 'sag'}                                   |\n",
            "| Ridge                 | MinMaxScaler   | 0.538366    | 0.535615   | 0.593755   | 0.605188  | {'alpha': 0.15, 'solver': 'svd'}                                  |\n",
            "| Ridge                 | No Scaler      | 0.538353    | 0.535513   | 0.593765   | 0.605263  | {'alpha': 4.1, 'solver': 'lsqr'}                                  |\n",
            "| Lasso                 | StandardScaler | 0.538396    | 0.53589    | 0.593733   | 0.604986  | {'alpha': 0.002, 'max_iter': 100}                                 |\n",
            "| Lasso                 | MinMaxScaler   | 0.538482    | 0.53622    | 0.593668   | 0.604742  | {'alpha': 0.0001, 'max_iter': 100}                                |\n",
            "| Lasso                 | No Scaler      | 0.538353    | 0.535518   | 0.593765   | 0.60526   | {'alpha': 0.0001, 'max_iter': 1000}                               |\n"
          ]
        }
      ]
    },
    {
      "cell_type": "code",
      "source": [
        "#compare which model is the best one\n",
        "def compare_models(results):\n",
        "    best_model = None\n",
        "    best_r2 = -float('inf')\n",
        "\n",
        "    for result in results:\n",
        "        if (result['test_r2'] > best_r2) or (result['test_r2'] == best_r2):\n",
        "            best_model = result['model']\n",
        "            best_r2 = result['test_r2']\n",
        "            best_scaler = result['scaler']\n",
        "            best_params = result['best_params']\n",
        "    return best_model, best_scaler, best_params\n"
      ],
      "metadata": {
        "id": "6hpEvnekL0Vg"
      },
      "execution_count": null,
      "outputs": []
    },
    {
      "cell_type": "code",
      "source": [
        "#retrain with the best model chosen\n",
        "def retrain_best_model(train_data, target_column, best_scaler_name, best_model_name, best_params, exclude_columns=None):\n",
        "    X_train = train_data.drop(columns=[target_column])\n",
        "    y_train = train_data[target_column]\n",
        "\n",
        "    if exclude_columns is not None:\n",
        "        columns_to_scale = [col for col in X_train.columns if col not in exclude_columns]\n",
        "    else:\n",
        "        columns_to_scale = [col for col in X_train.columns]\n",
        "\n",
        "    X_train_scaled = X_train.copy()\n",
        "\n",
        "    #apply the best scaler\n",
        "    if best_scaler_name == 'StandardScaler':\n",
        "        scaler = StandardScaler()\n",
        "        X_train_scaled[columns_to_scale] = scaler.fit_transform(X_train[columns_to_scale])\n",
        "    elif best_scaler_name == 'MinMaxScaler':\n",
        "        scaler = MinMaxScaler()\n",
        "        X_train_scaled[columns_to_scale] = scaler.fit_transform(X_train[columns_to_scale])\n",
        "    elif best_scaler_name == 'No Scaler':\n",
        "        scaler = None\n",
        "\n",
        "    #apply the best model\n",
        "    if best_model_name == 'DecisionTreeRegressor':\n",
        "        model = DecisionTreeRegressor(**best_params)\n",
        "    elif best_model_name == 'Ridge':\n",
        "        model = Ridge(**best_params)\n",
        "    elif best_model_name == 'Lasso':\n",
        "        model = Lasso(**best_params)\n",
        "\n",
        "    #train the model on the scaled training data\n",
        "    model.fit(X_train_scaled, y_train)\n",
        "\n",
        "    return X_train_scaled, y_train, model\n"
      ],
      "metadata": {
        "id": "qn0s7u8lL1sy"
      },
      "execution_count": null,
      "outputs": []
    },
    {
      "cell_type": "code",
      "source": [
        "#retrain the best model on the entire training data\n",
        "best_model, best_scaler, best_params = compare_models(all_results)\n",
        "X_retrained, y_retrained, model = retrain_best_model(train_df, 'MedHouseVal', best_scaler, best_model, best_params, exclude_columns)\n",
        "y_train_pred = model.predict(X_retrained)\n",
        "train_mse = mean_squared_error(y_retrained, y_train_pred)\n",
        "train_r2 = r2_score(y_retrained, y_train_pred)\n",
        "print(\"Retrained Best Model:\")\n",
        "print(best_model, best_scaler)\n",
        "print(f\"Train MSE: {train_mse}\")\n",
        "print(f\"Train R-squared: {train_r2}\")"
      ],
      "metadata": {
        "colab": {
          "base_uri": "https://localhost:8080/"
        },
        "id": "8PSPJqEk1qGw",
        "outputId": "66939df8-2785-4307-acf1-6350220fc2e6"
      },
      "execution_count": null,
      "outputs": [
        {
          "output_type": "stream",
          "name": "stdout",
          "text": [
            "Retrained Best Model:\n",
            "DecisionTreeRegressor MinMaxScaler\n",
            "Train MSE: 0.23894053385505698\n",
            "Train R-squared: 0.8196982001687517\n"
          ]
        }
      ]
    },
    {
      "cell_type": "code",
      "source": [
        "# separate 'MedHouseVal' from test data for comparison\n",
        "X_test, y_test, model = retrain_best_model(test_df, 'MedHouseVal', best_scaler, best_model, best_params, exclude_columns)\n",
        "\n",
        "# predict 'MedHouseVal' using the retrained best model\n",
        "y_test_pred = model.predict(X_test)\n",
        "\n",
        "# compare predictions with actual values\n",
        "test_mse = mean_squared_error(y_test, y_test_pred)\n",
        "test_r2 = r2_score(y_test, y_test_pred)\n",
        "print(f\"Test MSE: {test_mse}\")\n",
        "print(f\"Test R-squared: {test_r2}\")\n"
      ],
      "metadata": {
        "colab": {
          "base_uri": "https://localhost:8080/"
        },
        "id": "JjpCtcXU2jM1",
        "outputId": "8911193c-bc1e-4c30-b35f-c2250e81499f"
      },
      "execution_count": null,
      "outputs": [
        {
          "output_type": "stream",
          "name": "stdout",
          "text": [
            "Test MSE: 0.27696520659958884\n",
            "Test R-squared: 0.7958436947504524\n"
          ]
        }
      ]
    }
  ]
}